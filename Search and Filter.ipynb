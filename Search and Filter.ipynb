{
 "cells": [
  {
   "cell_type": "code",
   "execution_count": null,
   "id": "0f033cfa",
   "metadata": {},
   "outputs": [],
   "source": [
    "# Assuming that we currently have tables named 'tb_order' as o, 'tb_user' as u, and 'tb_store' as s"
   ]
  },
  {
   "cell_type": "code",
   "execution_count": null,
   "id": "f1cc23ea",
   "metadata": {},
   "outputs": [],
   "source": [
    "# Search and Filter\n",
    "\n",
    "#1. Extract all data from table\n",
    "\n",
    "SELECT * FROM tb_order\n",
    "\n",
    "#2. Using 'WHERE' to apply conditions (you can apply and, or, not, etc. to further filter the result)\n",
    "\n",
    "SELECT * FROM tb_order o WHERE o.order_date >= 20220101 AND o.price < 100\n",
    "\n",
    "#3. Using LIMIT to set the number of rows you want to output(often used with ORDER BY, ASC, DESC when you want the extrem value)\n",
    "\n",
    "SELECT * FROM tb_user u ORDER BY u.age DESC LIMIT 1\n",
    "\n",
    "#4. Using GROUP BY to group the result into sets by multiple columns(often used with aggregated functions such as MAX, MIN, COUNT, SUM, and AVG)\n",
    "\n",
    "SELECT COUNT(o.id), o.city FROM tb_order o GROUP BY o.city\n",
    "\n",
    "#5. Use LIKE in a WHERE clause to search with specific intent in a column\n",
    "# '%' (percent sign)- a wildcard character that represents zero or more characters\n",
    "# '_' (underscore)- a wildcard character that represents a single character\n",
    "\n",
    "SELECT o.user_name FROM tb_order o WHERE o.last_name LIKE(several options showed below):\n",
    "LIKE ‘a%’ (find any values that start with “a”)\n",
    "LIKE ‘%a’ (find any values that end with “a”)\n",
    "LIKE ‘%a%’ (find any values that have “a” in any position)\n",
    "LIKE ‘_a%’ (find any values that have “a” in the second position)\n",
    "LIKE ‘a_%_%’ (find any values that start with “a” and are at least 3 characters in length)\n",
    "LIKE ‘[a-c]%’ (find any values starting with “a”, “b”, or “c”\n",
    "\n",
    "#6. Use IN when specifying values in a WHERE clause\n",
    "               \n",
    "SELECT countd(o.id) FROM tb_order o WHERE o.city IN (Tokyo, London, Paris)\n",
    "\n",
    "#7. BETWEEN operator selects values within a given range (inclusive)\n",
    "               \n",
    "SELECT u.name FROM tb_user u WHERE u.create_date BETWEEN 2022/1/1 and 2022/11/30\n",
    "\n",
    "#8. NULL is a field with no value\n",
    "               \n",
    "SELECT u.id FROM tb_user u WHERE u.expire_date IS NULL\n",
    "            \n",
    "#or\n",
    "               \n",
    "SELECT u.id FROM tb_user u WHERE u.expire_date IS NOT NULL\n",
    "\n",
    "#9. HAVING can be useful for additional filtering needs since WHERE could not be used with aggregate functions\n",
    "\n",
    "SELECT COUNT(o.id), o.city FROM tb_order o GROUP BY o.city HAVING COUNT(o.id) > 20\n",
    "\n",
    "#HAVING can also being used if there's a new alias created\n",
    "          \n",
    "SELECT COUNT(o.id) as 'order_count', o.city FROM tb_order o GROUP BY o.city HAVING order_count > 20               \n"
   ]
  }
 ],
 "metadata": {
  "kernelspec": {
   "display_name": "Python 3 (ipykernel)",
   "language": "python",
   "name": "python3"
  },
  "language_info": {
   "codemirror_mode": {
    "name": "ipython",
    "version": 3
   },
   "file_extension": ".py",
   "mimetype": "text/x-python",
   "name": "python",
   "nbconvert_exporter": "python",
   "pygments_lexer": "ipython3",
   "version": "3.9.12"
  }
 },
 "nbformat": 4,
 "nbformat_minor": 5
}
