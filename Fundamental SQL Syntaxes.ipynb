{
 "cells": [
  {
   "cell_type": "code",
   "execution_count": null,
   "id": "9a07afd8",
   "metadata": {},
   "outputs": [],
   "source": [
    "SELECT #extracts data from a database"
   ]
  },
  {
   "cell_type": "code",
   "execution_count": null,
   "id": "4f61be38",
   "metadata": {},
   "outputs": [],
   "source": [
    "UPDATE #updates data in a database"
   ]
  },
  {
   "cell_type": "code",
   "execution_count": null,
   "id": "607b464b",
   "metadata": {},
   "outputs": [],
   "source": [
    "DELETE #deletes data from a database"
   ]
  },
  {
   "cell_type": "code",
   "execution_count": null,
   "id": "5fb259d6",
   "metadata": {},
   "outputs": [],
   "source": [
    "CREATE DATABASE #create a new database"
   ]
  },
  {
   "cell_type": "code",
   "execution_count": null,
   "id": "6ec6e169",
   "metadata": {},
   "outputs": [],
   "source": [
    "ALTER DATABASE #modify a database"
   ]
  },
  {
   "cell_type": "code",
   "execution_count": null,
   "id": "0dafdb31",
   "metadata": {},
   "outputs": [],
   "source": [
    "INSERT INTO #insert new data into a database"
   ]
  },
  {
   "cell_type": "code",
   "execution_count": null,
   "id": "94fb408e",
   "metadata": {},
   "outputs": [],
   "source": [
    "CREATE TABLE #create a new table"
   ]
  },
  {
   "cell_type": "code",
   "execution_count": null,
   "id": "6b85aa8c",
   "metadata": {},
   "outputs": [],
   "source": [
    "ALTER TABLE #modify a table"
   ]
  },
  {
   "cell_type": "code",
   "execution_count": null,
   "id": "09351b97",
   "metadata": {},
   "outputs": [],
   "source": [
    "DROP TABLE #delete a table"
   ]
  },
  {
   "cell_type": "code",
   "execution_count": null,
   "id": "8c90d3fc",
   "metadata": {},
   "outputs": [],
   "source": [
    "CREATE INDEX #create an index"
   ]
  },
  {
   "cell_type": "code",
   "execution_count": null,
   "id": "ce05c02e",
   "metadata": {},
   "outputs": [],
   "source": [
    "DROP INDEX #delete an index"
   ]
  }
 ],
 "metadata": {
  "kernelspec": {
   "display_name": "Python 3 (ipykernel)",
   "language": "python",
   "name": "python3"
  },
  "language_info": {
   "codemirror_mode": {
    "name": "ipython",
    "version": 3
   },
   "file_extension": ".py",
   "mimetype": "text/x-python",
   "name": "python",
   "nbconvert_exporter": "python",
   "pygments_lexer": "ipython3",
   "version": "3.9.12"
  }
 },
 "nbformat": 4,
 "nbformat_minor": 5
}
