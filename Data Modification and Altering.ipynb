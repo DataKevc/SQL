{
 "cells": [
  {
   "cell_type": "code",
   "execution_count": 1,
   "id": "12c7c2d6",
   "metadata": {},
   "outputs": [],
   "source": [
    "# Assuming that we currently have tables named 'tb_order' as o, 'tb_user' as u, and 'tb_store' as s"
   ]
  },
  {
   "cell_type": "code",
   "execution_count": null,
   "id": "024f9584",
   "metadata": {},
   "outputs": [],
   "source": [
    "# Data Modification and Altering\n",
    "\n",
    "#1. INSERT INTO can insert new records into a table\n",
    "\n",
    "INSERT INTO tb_order (id, date, city) VALUES (9487, 2022/11/30, Tokyo)\n",
    "\n",
    "#2. Use UPDATE to modify existing data in a table\n",
    "\n",
    "UPDATE tb_order SET user_name = 'David' WHERE user_id = 1\n",
    "\n",
    "#3. Use DELETE to delete existing data in a table\n",
    "\n",
    "DELETE FROM tb_order as o WHERE o.user_id is null\n",
    "\n",
    "#4. ADD can add a column\n",
    "\n",
    "ALTER TABLE tb_user ADD Email varchar(255)\n",
    "\n",
    "#5. DROP can delete a column\n",
    "\n",
    "ALTER TABLE tb_user DROP COLUMN Email\n",
    "\n",
    "#6. MODIFY can change the data type of a column\n",
    "\n",
    "ALTER tb_order MODIFY COLUMN o.id int"
   ]
  }
 ],
 "metadata": {
  "kernelspec": {
   "display_name": "Python 3 (ipykernel)",
   "language": "python",
   "name": "python3"
  },
  "language_info": {
   "codemirror_mode": {
    "name": "ipython",
    "version": 3
   },
   "file_extension": ".py",
   "mimetype": "text/x-python",
   "name": "python",
   "nbconvert_exporter": "python",
   "pygments_lexer": "ipython3",
   "version": "3.9.12"
  }
 },
 "nbformat": 4,
 "nbformat_minor": 5
}
