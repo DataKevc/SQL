{
 "cells": [
  {
   "cell_type": "code",
   "execution_count": null,
   "id": "e3239cb2",
   "metadata": {},
   "outputs": [],
   "source": [
    "# Assuming that we currently have tables named 'tb_order' as o, 'tb_user' as u, and 'tb_store' as s"
   ]
  },
  {
   "cell_type": "code",
   "execution_count": null,
   "id": "f8a4adfa",
   "metadata": {},
   "outputs": [],
   "source": [
    "#  Joins\n",
    "\n",
    "#1. INNER JOIN returns records that have matching value in both tables\n",
    "\n",
    "SELECT o.id FROM tb_order o INNER JOIN tb_user u ON o.user_id = u.id\n",
    "\n",
    "#2. LEFT (OUTER) JOIN returns all records from the left table (table1) and the matched records from the right table (table2)\n",
    "\n",
    "SELECT o.id FROM tb_order o LEFT JOIN tb_user u ON o.user_id = u.id\n",
    "\n",
    "#3 RIGHT (OUTER) JOIN returns all records from the right table (table2), and the matched records from the left table (table1)\n",
    "\n",
    "#4. FULL (OUTER) JOIN returns all records when there is a match in either left or right table\n",
    "\n",
    "#5. SELF JOIN  is a regular join but the table is joined with itself\n",
    "\n",
    "#6. UNION is used to combine the result-set of two or more SELECT statements\n",
    "- Every SELECT statement within UNION must have the same number of columns\n",
    "- The columns must also have similar data types\n",
    "- The columns in every SELECT statement must be in the same order\n",
    "\n",
    "SELECT city FROM tb_user UNION SELECT city FROM tb_store ORDER BY city\n"
   ]
  }
 ],
 "metadata": {
  "kernelspec": {
   "display_name": "Python 3 (ipykernel)",
   "language": "python",
   "name": "python3"
  },
  "language_info": {
   "codemirror_mode": {
    "name": "ipython",
    "version": 3
   },
   "file_extension": ".py",
   "mimetype": "text/x-python",
   "name": "python",
   "nbconvert_exporter": "python",
   "pygments_lexer": "ipython3",
   "version": "3.9.12"
  }
 },
 "nbformat": 4,
 "nbformat_minor": 5
}
